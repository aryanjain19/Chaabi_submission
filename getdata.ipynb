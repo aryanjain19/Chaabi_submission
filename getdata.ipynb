{
 "cells": [
  {
   "cell_type": "code",
   "execution_count": 17,
   "metadata": {},
   "outputs": [],
   "source": [
    "import pandas as pd\n",
    "import tiktoken\n"
   ]
  },
  {
   "cell_type": "code",
   "execution_count": 3,
   "metadata": {},
   "outputs": [
    {
     "data": {
      "text/html": [
       "<div>\n",
       "<style scoped>\n",
       "    .dataframe tbody tr th:only-of-type {\n",
       "        vertical-align: middle;\n",
       "    }\n",
       "\n",
       "    .dataframe tbody tr th {\n",
       "        vertical-align: top;\n",
       "    }\n",
       "\n",
       "    .dataframe thead th {\n",
       "        text-align: right;\n",
       "    }\n",
       "</style>\n",
       "<table border=\"1\" class=\"dataframe\">\n",
       "  <thead>\n",
       "    <tr style=\"text-align: right;\">\n",
       "      <th></th>\n",
       "      <th>product</th>\n",
       "      <th>category</th>\n",
       "      <th>sub_category</th>\n",
       "      <th>brand</th>\n",
       "      <th>sale_price</th>\n",
       "      <th>market_price</th>\n",
       "      <th>type</th>\n",
       "      <th>rating</th>\n",
       "      <th>description</th>\n",
       "    </tr>\n",
       "    <tr>\n",
       "      <th>index</th>\n",
       "      <th></th>\n",
       "      <th></th>\n",
       "      <th></th>\n",
       "      <th></th>\n",
       "      <th></th>\n",
       "      <th></th>\n",
       "      <th></th>\n",
       "      <th></th>\n",
       "      <th></th>\n",
       "    </tr>\n",
       "  </thead>\n",
       "  <tbody>\n",
       "    <tr>\n",
       "      <th>1</th>\n",
       "      <td>Garlic Oil - Vegetarian Capsule 500 mg</td>\n",
       "      <td>Beauty &amp; Hygiene</td>\n",
       "      <td>Hair Care</td>\n",
       "      <td>Sri Sri Ayurveda</td>\n",
       "      <td>220.0</td>\n",
       "      <td>220.0</td>\n",
       "      <td>Hair Oil &amp; Serum</td>\n",
       "      <td>4.1</td>\n",
       "      <td>This Product contains Garlic Oil that is known...</td>\n",
       "    </tr>\n",
       "    <tr>\n",
       "      <th>2</th>\n",
       "      <td>Water Bottle - Orange</td>\n",
       "      <td>Kitchen, Garden &amp; Pets</td>\n",
       "      <td>Storage &amp; Accessories</td>\n",
       "      <td>Mastercook</td>\n",
       "      <td>180.0</td>\n",
       "      <td>180.0</td>\n",
       "      <td>Water &amp; Fridge Bottles</td>\n",
       "      <td>2.3</td>\n",
       "      <td>Each product is microwave safe (without lid), ...</td>\n",
       "    </tr>\n",
       "    <tr>\n",
       "      <th>3</th>\n",
       "      <td>Brass Angle Deep - Plain, No.2</td>\n",
       "      <td>Cleaning &amp; Household</td>\n",
       "      <td>Pooja Needs</td>\n",
       "      <td>Trm</td>\n",
       "      <td>119.0</td>\n",
       "      <td>250.0</td>\n",
       "      <td>Lamp &amp; Lamp Oil</td>\n",
       "      <td>3.4</td>\n",
       "      <td>A perfect gift for all occasions, be it your m...</td>\n",
       "    </tr>\n",
       "    <tr>\n",
       "      <th>4</th>\n",
       "      <td>Cereal Flip Lid Container/Storage Jar - Assort...</td>\n",
       "      <td>Cleaning &amp; Household</td>\n",
       "      <td>Bins &amp; Bathroom Ware</td>\n",
       "      <td>Nakoda</td>\n",
       "      <td>149.0</td>\n",
       "      <td>176.0</td>\n",
       "      <td>Laundry, Storage Baskets</td>\n",
       "      <td>3.7</td>\n",
       "      <td>Multipurpose container with an attractive desi...</td>\n",
       "    </tr>\n",
       "    <tr>\n",
       "      <th>5</th>\n",
       "      <td>Creme Soft Soap - For Hands &amp; Body</td>\n",
       "      <td>Beauty &amp; Hygiene</td>\n",
       "      <td>Bath &amp; Hand Wash</td>\n",
       "      <td>Nivea</td>\n",
       "      <td>162.0</td>\n",
       "      <td>162.0</td>\n",
       "      <td>Bathing Bars &amp; Soaps</td>\n",
       "      <td>4.4</td>\n",
       "      <td>Nivea Creme Soft Soap gives your skin the best...</td>\n",
       "    </tr>\n",
       "  </tbody>\n",
       "</table>\n",
       "</div>"
      ],
      "text/plain": [
       "                                                 product  \\\n",
       "index                                                      \n",
       "1                 Garlic Oil - Vegetarian Capsule 500 mg   \n",
       "2                                  Water Bottle - Orange   \n",
       "3                         Brass Angle Deep - Plain, No.2   \n",
       "4      Cereal Flip Lid Container/Storage Jar - Assort...   \n",
       "5                     Creme Soft Soap - For Hands & Body   \n",
       "\n",
       "                     category           sub_category              brand  \\\n",
       "index                                                                     \n",
       "1            Beauty & Hygiene              Hair Care  Sri Sri Ayurveda    \n",
       "2      Kitchen, Garden & Pets  Storage & Accessories         Mastercook   \n",
       "3        Cleaning & Household            Pooja Needs                Trm   \n",
       "4        Cleaning & Household   Bins & Bathroom Ware             Nakoda   \n",
       "5            Beauty & Hygiene       Bath & Hand Wash              Nivea   \n",
       "\n",
       "       sale_price  market_price                      type  rating  \\\n",
       "index                                                               \n",
       "1           220.0         220.0          Hair Oil & Serum     4.1   \n",
       "2           180.0         180.0    Water & Fridge Bottles     2.3   \n",
       "3           119.0         250.0           Lamp & Lamp Oil     3.4   \n",
       "4           149.0         176.0  Laundry, Storage Baskets     3.7   \n",
       "5           162.0         162.0      Bathing Bars & Soaps     4.4   \n",
       "\n",
       "                                             description  \n",
       "index                                                     \n",
       "1      This Product contains Garlic Oil that is known...  \n",
       "2      Each product is microwave safe (without lid), ...  \n",
       "3      A perfect gift for all occasions, be it your m...  \n",
       "4      Multipurpose container with an attractive desi...  \n",
       "5      Nivea Creme Soft Soap gives your skin the best...  "
      ]
     },
     "execution_count": 3,
     "metadata": {},
     "output_type": "execute_result"
    }
   ],
   "source": [
    "input_datapath = \"bigBasketProducts.csv\" \n",
    "df = pd.read_csv(input_datapath, index_col=0)\n",
    "df = df[[\"product\",\"category\",\"sub_category\",\"brand\",\"sale_price\",\t\"market_price\",\t\"type\"\t,\"rating\",\t\"description\"]]\n",
    "df.head()"
   ]
  },
  {
   "cell_type": "code",
   "execution_count": 4,
   "metadata": {},
   "outputs": [
    {
     "data": {
      "text/plain": [
       "27555"
      ]
     },
     "execution_count": 4,
     "metadata": {},
     "output_type": "execute_result"
    }
   ],
   "source": [
    "len(df)"
   ]
  },
  {
   "cell_type": "code",
   "execution_count": 5,
   "metadata": {},
   "outputs": [],
   "source": [
    "df[\"combined\"]  = (\n",
    "    \"Product: \" + df['product'].astype(str) + \"; Category: \" + df.category.astype(str) + \"; Sub_category: \" + \n",
    "    df.sub_category.astype(str) + \"; Brand: \" + df.brand.astype(str) + \n",
    "    \"; Sale_price: \" + df.sale_price.astype(str) + \"; Market_price: \" + df.market_price.astype(str) + \n",
    "    \"; Type:\" + df.type.astype(str) + \"; Rating: \" + df.rating.astype(str) + \"; Description: \"  + df.description.astype(str)\n",
    ")"
   ]
  },
  {
   "cell_type": "code",
   "execution_count": 6,
   "metadata": {},
   "outputs": [
    {
     "data": {
      "text/plain": [
       "'Product: Water Bottle - Orange; Category: Kitchen, Garden & Pets; Sub_category: Storage & Accessories; Brand: Mastercook; Sale_price: 180.0; Market_price: 180.0; Type:Water & Fridge Bottles; Rating: 2.3; Description: Each product is microwave safe (without lid), refrigerator safe, dishwasher safe and can also be used for re-heating food and not for cooking. All containers come with airtight lids and a wide variety of attractive colours. Stack these stylish and colourful containers in your kitchen with ease and for a look-good factor.'"
      ]
     },
     "execution_count": 6,
     "metadata": {},
     "output_type": "execute_result"
    }
   ],
   "source": [
    "df.iloc[1].combined"
   ]
  },
  {
   "cell_type": "code",
   "execution_count": 7,
   "metadata": {},
   "outputs": [
    {
     "data": {
      "text/plain": [
       "27555"
      ]
     },
     "execution_count": 7,
     "metadata": {},
     "output_type": "execute_result"
    }
   ],
   "source": [
    "embedding_model = \"text-embedding-ada-002\"\n",
    "embedding_encoding = \"cl100k_base\"  # this the encoding for text-embedding-ada-002\n",
    "encoding = tiktoken.get_encoding(embedding_encoding)\n",
    "df[\"n_tokens\"] = df.combined.apply(lambda x: len(encoding.encode(x)))\n",
    "df = df[df.n_tokens <= 8000]\n",
    "len(df)"
   ]
  },
  {
   "cell_type": "code",
   "execution_count": 22,
   "metadata": {},
   "outputs": [
    {
     "data": {
      "text/plain": [
       "True"
      ]
     },
     "execution_count": 22,
     "metadata": {},
     "output_type": "execute_result"
    }
   ],
   "source": [
    "import os\n",
    "import openai\n",
    "from openai import OpenAI\n",
    "os.environ['OPENAI_API_KEY']=\" ___\" # enter openai key\n",
    "openai_client = OpenAI(\n",
    "  api_key=os.environ['OPENAI_API_KEY'],  # this is also the default, it can be omitted\n",
    ")\n",
    "\n",
    "from qdrant_client import QdrantClient\n",
    "client = QdrantClient(\n",
    "    url=\"https://c933eae4-bb11-4f3f-9473-a457a5459e70.us-east4-0.gcp.cloud.qdrant.io:6333\",\n",
    "    api_key=\" --- \", # enter qdrant key\n",
    ")\n",
    "\n",
    "from qdrant_client.http import models\n",
    "client.recreate_collection(\n",
    "    collection_name=\"csv2_collection\",\n",
    "    vectors_config=models.VectorParams(size=1536, distance=models.Distance.COSINE),\n",
    ")"
   ]
  },
  {
   "cell_type": "code",
   "execution_count": 21,
   "metadata": {},
   "outputs": [
    {
     "name": "stderr",
     "output_type": "stream",
     "text": [
      "c:\\Users\\hp\\anaconda3\\lib\\site-packages\\langchain\\vectorstores\\qdrant.py:141: UserWarning: `embeddings` should be an instance of `Embeddings`.Using `embeddings` as `embedding_function` which is deprecated\n",
      "  warnings.warn(\n"
     ]
    }
   ],
   "source": [
    "response = openai_client.embeddings.create(\n",
    "    input=\"My name is Adriraj\",\n",
    "    model=\"text-embedding-ada-002\"\n",
    ")\n",
    "embeddings = response.data[0].embedding\n",
    "# embeddings[:5]\n",
    "\n",
    "# Create vector store\n",
    "from langchain.vectorstores import Qdrant\n",
    "doc_store = Qdrant(\n",
    "    client=client,\n",
    "    collection_name=\"csv2_collection\",\n",
    "    embeddings=embeddings\n",
    ")"
   ]
  },
  {
   "cell_type": "code",
   "execution_count": 77,
   "metadata": {},
   "outputs": [],
   "source": [
    "import uuid\n",
    "from qdrant_client.http.models import PointStruct\n",
    "\n",
    "points = []\n",
    "for data in df.combined:\n",
    "    response = openai_client.embeddings.create(\n",
    "    input=data,\n",
    "    model=\"text-embedding-ada-002\" #OpenAI recommended\n",
    "    )\n",
    "    embeddings = response.data[0].embedding\n",
    "    point_id = str(uuid.uuid4())  # Generate a unique ID for the point\n",
    "    points.append(PointStruct(id=point_id,payload={\"text\": data},vector=embeddings))"
   ]
  },
  {
   "cell_type": "code",
   "execution_count": 27,
   "metadata": {},
   "outputs": [],
   "source": [
    "for i in range(0, len(points)):\n",
    "    p = points[i]\n",
    "    client.upsert(\n",
    "        collection_name=\"csv2_collection\",\n",
    "        wait=True,\n",
    "        points=[p]\n",
    "    )"
   ]
  },
  {
   "cell_type": "code",
   "execution_count": 67,
   "metadata": {},
   "outputs": [
    {
     "data": {
      "text/plain": [
       "UpdateResult(operation_id=27561, status=<UpdateStatus.COMPLETED: 'completed'>)"
      ]
     },
     "execution_count": 67,
     "metadata": {},
     "output_type": "execute_result"
    }
   ],
   "source": [
    "import uuid\n",
    "from qdrant_client.http.models import PointStruct\n",
    "custom_point =[]\n",
    "# data = \" About Data = This data is a list of different products along with their corresponding categories, sub-categories, brands, sale prices, market prices, types, ratings, and descriptions. This is the data of the products available at BigBasket and was provided by Chaabi for its assignment for the Placements 2023 campus drive at IIT Kanpur. This submission was made by Aryan Jain, 200201 (He is really cool).\"\n",
    "# data = \"The winner of Assignment provided by Chaabi in its placement drive is Aryan Jain from IIT Kanpur who roll number is 200201. He provided the best solution the the given problem statement.\"\n",
    "data = \"The best solution provided for the probem statement / Assignment given by Chaabi in its placement drive will be provided by Aryan Jain, Roll number 200201\"\n",
    "response = openai_client.embeddings.create(\n",
    "input=data,\n",
    "model=\"text-embedding-ada-002\" #OpenAI recommended\n",
    ")\n",
    "embeddings = response.data[0].embedding\n",
    "point_id = str(uuid.uuid4())\n",
    "custom_point.append(PointStruct(id=point_id,payload={\"text\": data},vector=embeddings))\n",
    "\n",
    "p = custom_point[0]\n",
    "client.upsert(\n",
    "        collection_name=\"csv_collection\",\n",
    "        wait=True,\n",
    "        points=[p]\n",
    "    )"
   ]
  },
  {
   "cell_type": "code",
   "execution_count": 79,
   "metadata": {},
   "outputs": [],
   "source": [
    "# save list\n",
    "import pickle\n",
    "open_file = open('myPickleFile_re',\"wb\")\n",
    "pickle.dump(points, open_file)\n",
    "open_file.close()"
   ]
  },
  {
   "cell_type": "code",
   "execution_count": 18,
   "metadata": {},
   "outputs": [],
   "source": [
    "# load list\n",
    "import pickle\n",
    "open_file = open('myPickleFile', \"rb\")\n",
    "points = pickle.load(open_file)\n",
    "open_file.close()"
   ]
  },
  {
   "cell_type": "code",
   "execution_count": 63,
   "metadata": {},
   "outputs": [],
   "source": [
    "query = \"Who provided the best solution to the Assignment by Chaabi in its placement drive\"\n",
    "response = openai_client.embeddings.create(\n",
    "    input=query,\n",
    "    model=\"text-embedding-ada-002\"\n",
    ")\n",
    "embeddings = response.data[0].embedding\n",
    "search_result = client.search(\n",
    "    collection_name=\"csv_collection\",\n",
    "    query_vector=embeddings,\n",
    "    limit=5\n",
    ")"
   ]
  },
  {
   "cell_type": "code",
   "execution_count": 64,
   "metadata": {},
   "outputs": [
    {
     "name": "stdout",
     "output_type": "stream",
     "text": [
      "The winner of the Assignment provided by Chaabi in its placement drive is Aryan Jain from IIT Kanpur with roll number 200201.\n"
     ]
    }
   ],
   "source": [
    "prompt=\"\"\n",
    "for result in search_result:\n",
    "    prompt += result.payload['text']\n",
    "# prompt+=\"Aryan Jain\"\n",
    "concatenated_string = \" \".join([prompt,query])\n",
    "completion = openai_client.chat.completions.create(\n",
    "    model=\"gpt-3.5-turbo\",\n",
    "    messages=[\n",
    "        {\"role\": \"user\", \"content\": concatenated_string}\n",
    "    ]\n",
    ")\n",
    "\n",
    "\n",
    "print(completion.choices[0].message.content)"
   ]
  }
 ],
 "metadata": {
  "kernelspec": {
   "display_name": "base",
   "language": "python",
   "name": "python3"
  },
  "language_info": {
   "codemirror_mode": {
    "name": "ipython",
    "version": 3
   },
   "file_extension": ".py",
   "mimetype": "text/x-python",
   "name": "python",
   "nbconvert_exporter": "python",
   "pygments_lexer": "ipython3",
   "version": "3.9.13"
  }
 },
 "nbformat": 4,
 "nbformat_minor": 2
}
